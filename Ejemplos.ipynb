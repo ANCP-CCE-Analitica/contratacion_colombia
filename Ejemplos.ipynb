{
 "cells": [
  {
   "cell_type": "markdown",
   "metadata": {},
   "source": [
    "# Análisis de oferta\n",
    "\n",
    "Solución para hacer análisis de oferta del modelo de abastecimiento estratégico."
   ]
  },
  {
   "cell_type": "code",
   "execution_count": 1,
   "metadata": {},
   "outputs": [
    {
     "name": "stderr",
     "output_type": "stream",
     "text": [
      "WARNING:root:Requests made without an app_token will be subject to strict throttling limits.\n"
     ]
    }
   ],
   "source": [
    "import pandas as pd\n",
    "import numpy as np\n",
    "from ipywidgets import interact, interactive, fixed, interact_manual\n",
    "import ipywidgets as widgets\n",
    "import matplotlib.pyplot as plt\n",
    "import seaborn as sns\n",
    "import plotly.express as px\n",
    "\n",
    "# Paquetes de consulta a traves de Socrata\n",
    "\n",
    "from sodapy import Socrata\n",
    "identificador_columnas=pd.read_csv('datos/identificador_columnas.csv')\n",
    "identificador_columnas=identificador_columnas[['Unificado','API_DA_S_I', 'API_DA_S_II']]\n",
    "identificador_columnas=identificador_columnas.dropna()\n",
    "identificador_columnas=identificador_columnas.set_index('Unificado')\n",
    "identificador_columnas.drop('Fuente',axis=0,inplace=True)\n",
    "identificador_datos={'SECOP I':'f789-7hwg','SECOP II':'jbjy-vk9h','TVEC':'rgxm-mmea'}\n",
    "\n",
    "### Definición de cliente para Socrata\n",
    "\n",
    "cliente=Socrata('www.datos.gov.co',None,timeout=1000000)\n"
   ]
  },
  {
   "cell_type": "code",
   "execution_count": 3,
   "metadata": {},
   "outputs": [
    {
     "data": {
      "text/plain": [
       "'numero_de_contrato'"
      ]
     },
     "execution_count": 3,
     "metadata": {},
     "output_type": "execute_result"
    }
   ],
   "source": [
    "identificador_columnas['API_DA_S_I']['ID Contrato']"
   ]
  },
  {
   "cell_type": "code",
   "execution_count": null,
   "metadata": {},
   "outputs": [],
   "source": [
    "query_=\"\"\"\n",
    "SELECT \n",
    "    count({}) as Cantidad\n",
    "LIMIT \n",
    "    1000000\n",
    "\"\"\".format(identificador_columnas.['API_DA_S_I']['ID Contrato'])"
   ]
  },
  {
   "cell_type": "code",
   "execution_count": 3,
   "metadata": {},
   "outputs": [
    {
     "name": "stderr",
     "output_type": "stream",
     "text": [
      "WARNING:root:Requests made without an app_token will be subject to strict throttling limits.\n"
     ]
    },
    {
     "ename": "",
     "evalue": "",
     "output_type": "error",
     "traceback": [
      "\u001b[1;31mCanceled future for execute_request message before replies were done"
     ]
    },
    {
     "ename": "",
     "evalue": "",
     "output_type": "error",
     "traceback": [
      "\u001b[1;31mEl Kernel se bloqueó al ejecutar código en la celda actual o en una celda anterior. Revise el código de las celdas para identificar una posible causa del error. Haga clic <a href='https://aka.ms/vscodeJupyterKernelCrash'>aquí</a> para obtener más información. Vea el [registro] de Jupyter (command:jupyter.viewOutput) para obtener más detalles."
     ]
    }
   ],
   "source": [
    "\n",
    "\n",
    "### Definición de funciones para consulta de datos\n",
    "\n",
    "query_SI=\"\"\"SELECT\n",
    "            {0}\n",
    "        LIMIT\n",
    "            15000000\n",
    "        \"\"\".format(','.join(identificador_columnas['API_DA_S_I']))\n",
    "\n",
    "query_SII=\"\"\"SELECT\n",
    "            {0}\n",
    "        LIMIT\n",
    "            15000000\n",
    "        \"\"\".format(','.join(identificador_columnas['API_DA_S_II']))\n",
    "\n",
    "results_SI=cliente.get(identificador_datos['SECOP I'],query=query_SI)\n",
    "results_SI=pd.DataFrame.from_records(results_SI)\n",
    "results_SI.columns=identificador_columnas.index\n",
    "\n",
    "\n",
    "results_SII=cliente.get(identificador_datos['SECOP II'],query=query_SII)\n",
    "results_SII=pd.DataFrame.from_records(results_SII)\n",
    "results_SII.columns=identificador_columnas.index\n",
    "\n",
    "\n",
    "total_SECOP=pd.concat([results_SI,results_SII],axis=0)\n"
   ]
  },
  {
   "cell_type": "code",
   "execution_count": null,
   "metadata": {},
   "outputs": [],
   "source": [
    "total_SECOP.head(10)\n"
   ]
  },
  {
   "cell_type": "code",
   "execution_count": null,
   "metadata": {},
   "outputs": [],
   "source": [
    "total_SECOP.columns"
   ]
  },
  {
   "cell_type": "code",
   "execution_count": null,
   "metadata": {},
   "outputs": [],
   "source": []
  }
 ],
 "metadata": {
  "kernelspec": {
   "display_name": "Python 3.9.12 ('base')",
   "language": "python",
   "name": "python3"
  },
  "language_info": {
   "codemirror_mode": {
    "name": "ipython",
    "version": 3
   },
   "file_extension": ".py",
   "mimetype": "text/x-python",
   "name": "python",
   "nbconvert_exporter": "python",
   "pygments_lexer": "ipython3",
   "version": "3.10.6"
  },
  "orig_nbformat": 4,
  "vscode": {
   "interpreter": {
    "hash": "56c061c6a3605692dd8f68d833a6cd95e25f484a98386b6702ce308f04d6b922"
   }
  }
 },
 "nbformat": 4,
 "nbformat_minor": 2
}
